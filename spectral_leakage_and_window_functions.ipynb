{
  "nbformat": 4,
  "nbformat_minor": 0,
  "metadata": {
    "colab": {
      "provenance": []
    },
    "kernelspec": {
      "name": "python3",
      "display_name": "Python 3"
    },
    "language_info": {
      "name": "python"
    }
  },
  "cells": [
    {
      "cell_type": "code",
      "execution_count": null,
      "metadata": {
        "id": "yXsA5E2tQBl6"
      },
      "outputs": [],
      "source": [
        "import numpy as np\n",
        "import matplotlib.pyplot as plt\n",
        "\n",
        "num_samples = 600\n",
        "sample_rate = 800\n",
        "\n",
        "def plot_sin_func():\n",
        "    x = np.linspace(0.0, num_samples / sample_rate, num_samples, endpoint=False)\n",
        "    sinus = np.sin(10 * 2 * np.pi * x) + 10 * np.sin(20 * 2 * np.pi * x) + 3 * np.sin(50 * 2 * np.pi * x) + 7 * np.sin(100 * 2 * np.pi * x) # 10 Гц, 20 Гц, 50 Гц, 100 Гц\n",
        "    plt.plot(x, sinus)\n",
        "    return sinus"
      ]
    },
    {
      "cell_type": "code",
      "source": [
        "signal_ = plot_sin_func()"
      ],
      "metadata": {
        "id": "2zo9IRB8QNFs"
      },
      "execution_count": null,
      "outputs": []
    },
    {
      "cell_type": "code",
      "source": [
        "from numpy.fft import fft, fftfreq\n",
        "\n",
        "yf = fft(signal_) # комплексный спектр\n",
        "xf = fftfreq(num_samples, 1 / sample_rate) # частоты, аргументы - число отсчетов и период дискретизации (в секундах)\n",
        "yf_mod = np.abs(yf) # действительная часть комплексного спетктра\n",
        "yf_ang = np.angle(yf) # фазовая часть комплексного спектра"
      ],
      "metadata": {
        "id": "FHoJTA4HQP87"
      },
      "execution_count": null,
      "outputs": []
    },
    {
      "cell_type": "code",
      "source": [
        "plt.plot(xf, yf_mod)\n",
        "plt.axis([-150, 150, -0, 3100])\n",
        "plt.xlabel(\"Frequency, Hz\")\n",
        "plt.ylabel(\"Amplitude\")\n",
        "plt.grid()\n",
        "plt.show()"
      ],
      "metadata": {
        "id": "Lyn_eaa3QYdT"
      },
      "execution_count": null,
      "outputs": []
    },
    {
      "cell_type": "code",
      "source": [
        "from scipy import signal"
      ],
      "metadata": {
        "id": "cyCvOhWYQg2a"
      },
      "execution_count": null,
      "outputs": []
    },
    {
      "cell_type": "code",
      "source": [
        "rect_w = signal.get_window(\"boxcar\", num_samples)\n",
        "\n",
        "plt.plot(rect_w)\n",
        "plt.title(\"Boxcar / rectangular / Dirichlet window\")\n",
        "plt.ylabel(\"Amplitude\")\n",
        "plt.xlabel(\"Sample\")"
      ],
      "metadata": {
        "id": "9VSgrutyq0SD"
      },
      "execution_count": null,
      "outputs": []
    },
    {
      "cell_type": "code",
      "source": [
        "windowed_signal_rect = signal_ * rect_w\n",
        "\n",
        "x = np.linspace(0.0, num_samples / sample_rate, num_samples, endpoint=False)\n",
        "plt.plot(x, windowed_signal_rect)"
      ],
      "metadata": {
        "id": "uWHBmWO4q4rr"
      },
      "execution_count": null,
      "outputs": []
    },
    {
      "cell_type": "code",
      "source": [
        "yf_windowed = fft(windowed_signal_rect)\n",
        "xf = fftfreq(num_samples, 1 / sample_rate)\n",
        "\n",
        "plt.plot(xf, np.abs(yf_windowed))\n",
        "plt.xlabel(\"Frequency, Hz\")\n",
        "plt.ylabel(\"Amplitude\")\n",
        "plt.axis([-150, 150, 0, 3100])\n",
        "plt.grid()\n",
        "plt.show()"
      ],
      "metadata": {
        "id": "L0JWrMYDrDMy"
      },
      "execution_count": null,
      "outputs": []
    },
    {
      "cell_type": "code",
      "source": [
        "triang_w = signal.get_window(\"triang\", num_samples)\n",
        "\n",
        "plt.plot(triang_w)\n",
        "plt.title(\"Triangular window\")\n",
        "plt.ylabel(\"Amplitude\")\n",
        "plt.xlabel(\"Sample\")"
      ],
      "metadata": {
        "id": "3XIlKtsvocAk"
      },
      "execution_count": null,
      "outputs": []
    },
    {
      "cell_type": "code",
      "source": [
        "windowed_signal_triang = signal_ * triang_w\n",
        "\n",
        "x = np.linspace(0.0, num_samples / sample_rate, num_samples, endpoint=False)\n",
        "plt.plot(x, windowed_signal_triang)"
      ],
      "metadata": {
        "id": "qg02JTr_ojEw"
      },
      "execution_count": null,
      "outputs": []
    },
    {
      "cell_type": "code",
      "source": [
        "yf_windowed = fft(windowed_signal_triang) / 0.5   # делим на норму окна\n",
        "xf = fftfreq(num_samples, 1 / sample_rate)\n",
        "\n",
        "plt.plot(xf, np.abs(yf_windowed))\n",
        "plt.xlabel(\"Frequency, Hz\")\n",
        "plt.ylabel(\"Amplitude\")\n",
        "plt.axis([-150, 150, 0, 3100])\n",
        "plt.grid()\n",
        "plt.show()"
      ],
      "metadata": {
        "id": "fCNjypVcpjVc"
      },
      "execution_count": null,
      "outputs": []
    },
    {
      "cell_type": "code",
      "source": [
        "hann_w = signal.get_window(\"hann\", num_samples)\n",
        "\n",
        "plt.plot(hann_w)\n",
        "plt.title(\"Hann window\")\n",
        "plt.ylabel(\"Amplitude\")\n",
        "plt.xlabel(\"Sample\")"
      ],
      "metadata": {
        "id": "ArP9V4w4Tnz9"
      },
      "execution_count": null,
      "outputs": []
    },
    {
      "cell_type": "code",
      "source": [
        "windowed_signal_hann = signal_ * hann_w\n",
        "\n",
        "x = np.linspace(0.0, num_samples / sample_rate, num_samples, endpoint=False)\n",
        "plt.plot(x, windowed_signal_hann)"
      ],
      "metadata": {
        "id": "CAxnD9uLUksq"
      },
      "execution_count": null,
      "outputs": []
    },
    {
      "cell_type": "code",
      "source": [
        "yf_windowed = fft(windowed_signal_hann) / 0.5   # делим на норму окна\n",
        "xf = fftfreq(num_samples, 1 / sample_rate)\n",
        "\n",
        "plt.plot(xf, np.abs(yf_windowed))\n",
        "plt.xlabel(\"Frequency, Hz\")\n",
        "plt.ylabel(\"Amplitude\")\n",
        "plt.axis([-150, 150, 0, 3100])\n",
        "plt.grid()\n",
        "plt.show()"
      ],
      "metadata": {
        "id": "nCkp9hpAicIJ"
      },
      "execution_count": null,
      "outputs": []
    },
    {
      "cell_type": "code",
      "source": [
        "hamming_w = signal.get_window(\"hamming\", num_samples)\n",
        "\n",
        "plt.plot(hamming_w)\n",
        "plt.title(\"Hamming window\")\n",
        "plt.ylabel(\"Amplitude\")\n",
        "plt.xlabel(\"Sample\")"
      ],
      "metadata": {
        "id": "nUMcQDjUoaWD"
      },
      "execution_count": null,
      "outputs": []
    },
    {
      "cell_type": "code",
      "source": [
        "windowed_signal_hamming = signal_ * hamming_w\n",
        "\n",
        "x = np.linspace(0.0, num_samples / sample_rate, num_samples, endpoint=False)\n",
        "plt.plot(x, windowed_signal_hamming)"
      ],
      "metadata": {
        "id": "vsd3ikv2s_-C"
      },
      "execution_count": null,
      "outputs": []
    },
    {
      "cell_type": "code",
      "source": [
        "yf_windowed = fft(windowed_signal_hamming) / 0.54   # делим на норму окна\n",
        "xf = fftfreq(num_samples, 1 / sample_rate)\n",
        "\n",
        "plt.plot(xf, np.abs(yf_windowed))\n",
        "plt.xlabel(\"Frequency, Hz\")\n",
        "plt.ylabel(\"Amplitude\")\n",
        "plt.axis([-150, 150, 0, 3100])\n",
        "plt.grid()\n",
        "plt.show()"
      ],
      "metadata": {
        "id": "ZPOsrn_ftJj-"
      },
      "execution_count": null,
      "outputs": []
    },
    {
      "cell_type": "code",
      "source": [
        "blackman_w = signal.get_window(\"blackman\", num_samples)\n",
        "\n",
        "plt.plot(blackman_w)\n",
        "plt.title(\"Blackman window\")\n",
        "plt.ylabel(\"Amplitude\")\n",
        "plt.xlabel(\"Sample\")"
      ],
      "metadata": {
        "id": "-smAhgRVuLVG"
      },
      "execution_count": null,
      "outputs": []
    },
    {
      "cell_type": "code",
      "source": [
        "windowed_signal_blackman = signal_ * blackman_w\n",
        "\n",
        "x = np.linspace(0.0, num_samples / sample_rate, num_samples, endpoint=False)\n",
        "plt.plot(x, windowed_signal_blackman)"
      ],
      "metadata": {
        "id": "0NKVoCrZ9pbh"
      },
      "execution_count": null,
      "outputs": []
    },
    {
      "cell_type": "code",
      "source": [
        "yf_windowed = fft(windowed_signal_blackman) / 0.42   # делим на норму окна\n",
        "xf = fftfreq(num_samples, 1 / sample_rate)\n",
        "\n",
        "plt.plot(xf, np.abs(yf_windowed))\n",
        "plt.xlabel(\"Frequency, Hz\")\n",
        "plt.ylabel(\"Amplitude\")\n",
        "plt.axis([-150, 150, 0, 3100])\n",
        "plt.grid()\n",
        "plt.show()"
      ],
      "metadata": {
        "id": "UbDZOEZp90hA"
      },
      "execution_count": null,
      "outputs": []
    },
    {
      "cell_type": "code",
      "source": [
        "from scipy.fft import rfft, rfftfreq\n",
        "\n",
        "yf_windowed = rfft(windowed_signal_blackman) / 0.42\n",
        "xf = rfftfreq(num_samples, 1 / sample_rate)\n",
        "\n",
        "plt.plot(xf, np.abs(yf_windowed))\n",
        "plt.xlabel(\"Frequency, Hz\")\n",
        "plt.ylabel(\"Amplitude\")\n",
        "plt.axis([0, 150, 0, 3100])\n",
        "plt.grid()\n",
        "plt.show()"
      ],
      "metadata": {
        "id": "oAIUGaf8-53l"
      },
      "execution_count": null,
      "outputs": []
    }
  ]
}