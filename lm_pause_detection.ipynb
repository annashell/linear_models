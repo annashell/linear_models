{
  "nbformat": 4,
  "nbformat_minor": 0,
  "metadata": {
    "colab": {
      "provenance": []
    },
    "kernelspec": {
      "name": "python3",
      "display_name": "Python 3"
    },
    "language_info": {
      "name": "python"
    }
  },
  "cells": [
    {
      "cell_type": "code",
      "execution_count": null,
      "metadata": {
        "id": "6fAwwevec0PX"
      },
      "outputs": [],
      "source": [
        "import wave\n",
        "import struct"
      ]
    },
    {
      "cell_type": "code",
      "source": [
        "def detect_encoding(file_path):\n",
        "    encoding = \"utf-8\"\n",
        "    try:\n",
        "        l = open(file_path, 'r', encoding=\"utf-8\").read()\n",
        "        if l.startswith(\"\\ufeff\"):  # byte order mark\n",
        "            encoding = \"utf-8-sig\"\n",
        "    except UnicodeDecodeError:\n",
        "        try:\n",
        "            open(file_path, 'r', encoding=\"utf-16\").read()\n",
        "            encoding = \"utf-16\"\n",
        "        except UnicodeError:\n",
        "            encoding = \"cp1251\"\n",
        "    return encoding"
      ],
      "metadata": {
        "id": "_TAyfuQTdAF_"
      },
      "execution_count": null,
      "outputs": []
    },
    {
      "cell_type": "code",
      "source": [
        "from itertools import product\n",
        "letters = \"GBRY\"\n",
        "nums = \"1234\"\n",
        "levels = [ch + num for num, ch in product(nums, letters)]\n",
        "level_codes = [2 ** i for i in range(len(levels))]\n",
        "\n",
        "level2code = {i: j for i, j in zip(levels, level_codes)}\n",
        "code2level = {j: i for i, j in zip(levels, level_codes)}\n",
        "\n",
        "sampwidth_to_char = {1: \"c\", 2: \"h\", 4: \"i\"}"
      ],
      "metadata": {
        "id": "fIw99tJ8dB7m"
      },
      "execution_count": null,
      "outputs": []
    },
    {
      "cell_type": "code",
      "source": [
        "class Params:\n",
        "  def __init__(self, s_rate, s_width, n_channels) -> None:\n",
        "      self.samplerate = s_rate\n",
        "      self.sampwidth = s_width\n",
        "      self.numchannels = n_channels"
      ],
      "metadata": {
        "id": "L1EZzuvIdEEH"
      },
      "execution_count": null,
      "outputs": []
    },
    {
      "cell_type": "code",
      "source": [
        "class Label:\n",
        "  def __init__(self, position, level, text) -> None:\n",
        "    self.position = position\n",
        "    self.level = level\n",
        "    self.text = text"
      ],
      "metadata": {
        "id": "YE5LOVKQdGQO"
      },
      "execution_count": null,
      "outputs": []
    },
    {
      "cell_type": "code",
      "source": [
        "class Seg:\n",
        "  def __init__(self, filename: str = None, labels: list = [], params: Params = Params(22050, 2, 1)):\n",
        "    self.filename = filename\n",
        "    self.labels = labels\n",
        "    self.params = params\n",
        "\n",
        "  def read_seg_file(self):\n",
        "    try:\n",
        "      with open(self.filename, \"r\", encoding=detect_encoding(self.filename)) as f:\n",
        "        lines = [line.strip() for line in f.readlines()]\n",
        "    except FileNotFoundError:\n",
        "      print(self.filename, \" не найден\")\n",
        "\n",
        "    self.init_params()\n",
        "\n",
        "    try:\n",
        "      index_labels = lines.index('[LABELS]')\n",
        "    except ValueError:\n",
        "      print(\"Seg-файл не содержит секции LABELS\")\n",
        "\n",
        "    labels_ = lines[index_labels + 1 :]\n",
        "    labels_arr = [Label(\n",
        "        int(line.split(\",\")[0]) // self.params.sampwidth // self.params.numchannels,\n",
        "        code2level[int(line.split(\",\")[1])],\n",
        "        line.split(\",\")[2]\n",
        "    ) for line in labels_ if line.count(\",\") >= 2]\n",
        "\n",
        "    self.labels = labels_arr\n",
        "\n",
        "  def init_params(self):\n",
        "    try:\n",
        "      with open(self.filename, \"r\", encoding=detect_encoding(self.filename)) as f:\n",
        "        lines = [line.strip() for line in f.readlines()]\n",
        "    except FileNotFoundError:\n",
        "      print(self.filename, \" не найден\")\n",
        "\n",
        "    try:\n",
        "      index_params = lines.index('[PARAMETERS]')\n",
        "    except ValueError:\n",
        "      print(\"Seg-файл не содержит секции PARAMETERS\")\n",
        "\n",
        "    try:\n",
        "      index_labels = lines.index('[LABELS]')\n",
        "    except ValueError:\n",
        "      print(\"Seg-файл не содержит секции LABELS\")\n",
        "\n",
        "    parameters = lines[index_params + 1 : index_labels]\n",
        "\n",
        "    param_dict = {str(line.split(\"=\")[0]): int(line.split(\"=\")[1]) for line in parameters}\n",
        "\n",
        "    self.params = Params(param_dict[\"SAMPLING_FREQ\"], param_dict[\"BYTE_PER_SAMPLE\"], param_dict[\"N_CHANNEL\"])\n",
        "\n",
        "  def write_seg_file(self):\n",
        "    params = {\n",
        "        \"SAMPLING_FREQ\": self.params.samplerate,\n",
        "        \"BYTE_PER_SAMPLE\": self.params.sampwidth,\n",
        "        \"CODE\": 0,\n",
        "        \"N_CHANNEL\": self.params.numchannels,\n",
        "        \"N_LABEL\": len(self.labels)\n",
        "    }\n",
        "    with open(self.filename, \"w\", encoding=\"utf-8\") as f:\n",
        "      f.write(\"[PARAMETERS]\\n\")\n",
        "      for key in params.keys():\n",
        "        f.write(key + '=' + str(params[key]) + \"\\n\")\n",
        "      f.write(\"[LABELS]\\n\")\n",
        "      for label in self.labels:\n",
        "        pos = label.position * self.params.numchannels * self.params.sampwidth\n",
        "        f.write(f\"{pos}, {level2code[label.level]}, {label.text}\\n\")\n",
        "    print(\"Параметры и метки записаны в файл \", self.filename)\n",
        "\n",
        "    def get_labels_in_pairs(self, num_samples):\n",
        "      ends = [end.position for start, end in zip(self.labels, self.labels[1:])]\n",
        "      ends.append(num_samples)\n",
        "      return [(label.position, ends[i], label.text) for i, label in enumerate(self.labels)]"
      ],
      "metadata": {
        "id": "oomUNahPdG42"
      },
      "execution_count": null,
      "outputs": []
    },
    {
      "cell_type": "code",
      "source": [
        "class Signal:\n",
        "  def __init__(self, filename: str, signal: list = [], params: Params = None, seg: Seg = None):\n",
        "    self.signal: list = signal\n",
        "    self.filename: str = filename\n",
        "    self.seg: Seg = seg\n",
        "    self.params: Params = params\n",
        "\n",
        "  def init_params(self):\n",
        "    if self.params is not None:\n",
        "      return\n",
        "    if self.seg is not None:\n",
        "      self.seg.init_params()\n",
        "      self.params = self.seg.params\n",
        "    else:\n",
        "      default_params = Params(22050, 2, 1)\n",
        "      self.params = default_params\n",
        "\n",
        "  def read_wav(self):\n",
        "    try:\n",
        "      f = wave.open(self.filename)\n",
        "    except FileNotFoundError:\n",
        "      print(self.filename, \" не найден\")\n",
        "\n",
        "    num_samples = f.getnframes()\n",
        "    samplerate = f.getframerate()\n",
        "    sampwidth = f.getsampwidth()\n",
        "    num_channels = f.getnchannels()\n",
        "\n",
        "    sampwidth_to_char = {1: \"c\", 2: \"h\", 4: \"i\"}\n",
        "    fmt = str(num_samples * num_channels) + sampwidth_to_char[sampwidth]\n",
        "\n",
        "    signal = struct.unpack(fmt, f.readframes(num_samples * num_channels))\n",
        "    self.signal = signal\n",
        "    new_params = Params(samplerate, sampwidth, num_channels)\n",
        "    self.params = new_params\n",
        "\n",
        "  def read_sbl(self):\n",
        "    with open(self.filename, \"rb\") as f:\n",
        "      raw_signal = f.read()\n",
        "    num_samples = len(raw_signal) // self.params.sampwidth\n",
        "    fmt = str(num_samples) + sampwidth_to_char[self.params.sampwidth]\n",
        "    signal = struct.unpack(fmt, raw_signal)\n",
        "    self.signal = signal\n",
        "\n",
        "  def read_sound_file(self):\n",
        "    self.init_params()\n",
        "    if self.filename.endswith(\".wav\"):\n",
        "        self.read_wav()\n",
        "    elif self.filename.endswith(\".sbl\"):\n",
        "        self.read_sbl()\n",
        "    else:\n",
        "        raise ValueError(\"Неизвестное расширение, \", self.filename)\n",
        "\n",
        "  def write_wav_file(self):\n",
        "    num_samples = self.params.samplerate * 2\n",
        "    sampwidth_to_char = {1: \"c\", 2: \"h\", 4: \"i\"}\n",
        "    fmt = str(num_samples) + sampwidth_to_char[self.params.sampwidth]\n",
        "\n",
        "    signal_ = struct.pack(fmt, *self.signal)\n",
        "\n",
        "    f = wave.open(self.filename, \"wb\")\n",
        "    f.setnchannels(self.params.numchannels)\n",
        "    f.setsampwidth(self.params.sampwidth)\n",
        "    f.setframerate(self.params.samplerate)\n",
        "    f.writeframes(signal_)\n",
        "    f.close()"
      ],
      "metadata": {
        "id": "qSbUhhKCdJEn"
      },
      "execution_count": null,
      "outputs": []
    },
    {
      "cell_type": "code",
      "source": [
        "filename = r\"/content/drive/MyDrive/cta/av15t.wav\"\n",
        "wav_signal = Signal(filename)\n",
        "wav_signal.read_wav()"
      ],
      "metadata": {
        "id": "Ak1RcZ1gdLr3"
      },
      "execution_count": null,
      "outputs": []
    },
    {
      "cell_type": "code",
      "source": [
        "import matplotlib.pyplot as plt\n",
        "plt.plot(wav_signal.signal)\n",
        "plt.show()"
      ],
      "metadata": {
        "colab": {
          "base_uri": "https://localhost:8080/",
          "height": 430
        },
        "id": "DkUxXVKmdS73",
        "outputId": "2baa6013-674f-4c04-a3f6-33a99b8070ad"
      },
      "execution_count": null,
      "outputs": [
        {
          "output_type": "display_data",
          "data": {
            "text/plain": [
              "<Figure size 640x480 with 1 Axes>"
            ],
            "image/png": "[encoded data removed]"
          },
          "metadata": {}
        }
      ]
    },
    {
      "cell_type": "code",
      "source": [
        "import numpy as np\n",
        "\n",
        "def get_zeros(wav_signal: list, N_wind):\n",
        "  sig_len = len(wav_signal)\n",
        "  res = int(sig_len % (N_wind))\n",
        "  num_zeros = int(N_wind - res)\n",
        "  wav_signal.extend(np.zeros(num_zeros))\n",
        "  return wav_signal"
      ],
      "metadata": {
        "id": "V-uaHXqtaChx"
      },
      "execution_count": null,
      "outputs": []
    },
    {
      "cell_type": "code",
      "source": [
        "def detect_pauses(signal_: Signal, w_size: float, min_pause_duration: float, min_alloph_duration: float, threshold: float):\n",
        "  \"\"\"\n",
        "  Функция записывает seg разметку с определением пауз в сигнале\n",
        "  :param signal: обрабатываемый сигнал\n",
        "  :param w_size: размер окна обработки сигнала, с\n",
        "  :param min_pause_duration: минимальная длительность паузы, с\n",
        "  :param min_alloph_duration: минимальная длительность звучащего сегмента, с\n",
        "  :param threshold: доля максимальной амплитуды сигнала, ниже которой детектируется пауза\n",
        "  \"\"\"\n",
        "\n",
        "  # Алгоритм:\n",
        "  # 1. Вычисляем интенсивность сигнала\n",
        "  # 2. Интервалы выше порога определяем как речевые, ниже - как паузы\n",
        "  # 3. Объединяем речевые и неречевые интервалы\n",
        "  # 4. Удаляем короткие паузы (скорее всего, это смычные согласные)\n",
        "  # 5. Удаляем короткие звучащие сегменты (это не речевые звуки)\n",
        "  # 6. Пишем seg\n",
        "\n",
        "  params = signal_.params\n",
        "  N_wind = int(w_size * params.samplerate / params.sampwidth)\n",
        "\n",
        "  wav_signal = get_zeros(list(signal_.signal), N_wind)\n",
        "  num_windows = len(wav_signal) // N_wind\n",
        "\n",
        "  intensity_list = []\n",
        "  for i in range(num_windows):\n",
        "    start = N_wind * i\n",
        "    end = start + N_wind\n",
        "    sig_part = np.array(wav_signal[start : end])\n",
        "\n",
        "    intensity = sig_part ** 2\n",
        "    intensity_list.append(np.mean(intensity))\n",
        "\n",
        "  max_intensity = max(intensity_list)\n",
        "  labels = []\n",
        "\n",
        "  for i, int_wind in enumerate(intensity_list):\n",
        "    if np.log(int_wind)/np.log(max_intensity) > threshold:\n",
        "      labels.append(Label(i * N_wind, \"B1\", \"voiced\"))\n",
        "    else:\n",
        "      labels.append(Label(i * N_wind, \"B1\", \"pause\"))\n",
        "\n",
        "  labels_united = [labels[0]]\n",
        "  for label1, label2 in zip(labels, labels[1:]):\n",
        "    if label1.text != label2.text:\n",
        "      labels_united.append(label2)\n",
        "\n",
        "  labels_final = []\n",
        "  indexes_to_delete = []\n",
        "\n",
        "  n = 1\n",
        "  for label1, label2 in zip(labels_united[1:], labels_united[2:]):\n",
        "    if (label1.text == \"pause\" and (label2.position - label1.position) / params.samplerate < min_pause_duration) or (label1.text == \"voiced\" and (label2.position - label1.position) / params.samplerate < min_alloph_duration):\n",
        "        indexes_to_delete.append(n)\n",
        "        indexes_to_delete.append(n + 1)\n",
        "    n += 1\n",
        "\n",
        "  for i, label in enumerate(labels_united):\n",
        "    if i not in indexes_to_delete:\n",
        "      labels_final.append(label)\n",
        "\n",
        "\n",
        "  new_seg_fn = r\"/content/drive/MyDrive/cta/av15t.seg\"\n",
        "  new_seg = Seg(new_seg_fn, labels_final, params)\n",
        "  new_seg.write_seg_file()\n"
      ],
      "metadata": {
        "id": "WMUBO56nnzKQ"
      },
      "execution_count": null,
      "outputs": []
    },
    {
      "cell_type": "code",
      "source": [
        "detect_pauses(wav_signal, 0.02, 0.15, 0.05, 0.6)"
      ],
      "metadata": {
        "id": "znmvJzTyptmR",
        "colab": {
          "base_uri": "https://localhost:8080/"
        },
        "outputId": "6ba95cd7-0ca3-4889-d414-72b6b02f4f31"
      },
      "execution_count": null,
      "outputs": [
        {
          "output_type": "stream",
          "name": "stdout",
          "text": [
            "Параметры и метки записаны в файл  /content/drive/MyDrive/cta/av15t.seg\n"
          ]
        }
      ]
    }
  ]
}