{
  "nbformat": 4,
  "nbformat_minor": 0,
  "metadata": {
    "colab": {
      "provenance": []
    },
    "kernelspec": {
      "name": "python3",
      "display_name": "Python 3"
    },
    "language_info": {
      "name": "python"
    }
  },
  "cells": [
    {
      "cell_type": "code",
      "execution_count": null,
      "metadata": {
        "id": "V1J4fOnRbWPw",
        "colab": {
          "base_uri": "https://localhost:8080/"
        },
        "outputId": "aaed44ae-00d5-4763-c639-3b9bdffba512"
      },
      "outputs": [
        {
          "output_type": "stream",
          "name": "stdout",
          "text": [
            "Collecting tgt\n",
            "  Downloading tgt-1.5-py3-none-any.whl.metadata (764 bytes)\n",
            "Downloading tgt-1.5-py3-none-any.whl (41 kB)\n",
            "\u001b[?25l   \u001b[90m━━━━━━━━━━━━━━━━━━━━━━━━━━━━━━━━━━━━━━━━\u001b[0m \u001b[32m0.0/41.6 kB\u001b[0m \u001b[31m?\u001b[0m eta \u001b[36m-:--:--\u001b[0m\r\u001b[2K   \u001b[90m━━━━━━━━━━━━━━━━━━━━━━━━━━━━━━━━━━━━━━━━\u001b[0m \u001b[32m41.6/41.6 kB\u001b[0m \u001b[31m1.7 MB/s\u001b[0m eta \u001b[36m0:00:00\u001b[0m\n",
            "\u001b[?25hInstalling collected packages: tgt\n",
            "Successfully installed tgt-1.5\n"
          ]
        }
      ],
      "source": [
        "!pip install tgt"
      ]
    },
    {
      "cell_type": "code",
      "source": [
        "import tgt"
      ],
      "metadata": {
        "id": "XVL7RRAWbcF4"
      },
      "execution_count": null,
      "outputs": []
    },
    {
      "cell_type": "markdown",
      "source": [
        "I. Чтение TextGrid"
      ],
      "metadata": {
        "id": "bWw6VUi3gxya"
      }
    },
    {
      "cell_type": "code",
      "source": [
        "grid = tgt.io.read_textgrid(\"/content/drive/MyDrive/cta/av18s.TextGrid\")"
      ],
      "metadata": {
        "id": "rQmW9Amzb6Xm"
      },
      "execution_count": null,
      "outputs": []
    },
    {
      "cell_type": "code",
      "source": [
        "print(grid)"
      ],
      "metadata": {
        "colab": {
          "base_uri": "https://localhost:8080/"
        },
        "id": "mR3Dx85Pey8h",
        "outputId": "ea9def95-cb92-4fb8-90e3-164ea92d736f"
      },
      "execution_count": null,
      "outputs": [
        {
          "output_type": "stream",
          "name": "stdout",
          "text": [
            "<tgt.core.TextGrid object at 0x7c297910b490>\n"
          ]
        }
      ]
    },
    {
      "cell_type": "code",
      "source": [
        "grid.get_tier_names()"
      ],
      "metadata": {
        "id": "qPGTkzgncDzl",
        "colab": {
          "base_uri": "https://localhost:8080/"
        },
        "outputId": "e93d57da-4eb4-45d9-a0f6-33212bf51325"
      },
      "execution_count": null,
      "outputs": [
        {
          "output_type": "execute_result",
          "data": {
            "text/plain": [
              "['acoustic',\n",
              " 'perception',\n",
              " 'ideal',\n",
              " 'syllables',\n",
              " 'stress',\n",
              " 'syntagma',\n",
              " 'melody',\n",
              " 'hesitation']"
            ]
          },
          "metadata": {},
          "execution_count": 5
        }
      ]
    },
    {
      "cell_type": "code",
      "source": [
        "grid.tiers"
      ],
      "metadata": {
        "id": "zm3FDF7XcvBc"
      },
      "execution_count": null,
      "outputs": []
    },
    {
      "cell_type": "code",
      "source": [
        "for tier in grid:\n",
        "    print(tier)"
      ],
      "metadata": {
        "id": "65ryWR4Yc-Iy",
        "colab": {
          "base_uri": "https://localhost:8080/"
        },
        "outputId": "e846d38f-bb44-4a4f-8061-49efd98afbb9"
      },
      "execution_count": null,
      "outputs": [
        {
          "output_type": "stream",
          "name": "stdout",
          "text": [
            "IntervalTier(start_time=0.0, end_time=9.03071875, name=\"acoustic\", objects=[Interval(0.0, 0.08803125, \"d\"), Interval(0.08803125, 0.299656249999999, \"a\"), Interval(0.299656249999999, 0.6634375, \"pause\"), Interval(0.6634375, 0.770875, \"d\"), Interval(0.770875, 0.87184375, \"a\"), Interval(0.87184375, 0.94334375, \"e\"), Interval(0.94334375, 1.01834375, \"t\"), Interval(1.01834375, 1.04153125, \"\\sw\"), Interval(1.04153125, 1.122749999999999, \"b\"), Interval(1.122749999999999, 1.153, \"\\hs\"), Interval(1.153, 1.198874999999999, \"\\l~\"), Interval(1.198874999999999, 1.23853125, \"\\at\"), Interval(1.23853125, 1.287281249999999, \"f\"), Interval(1.287281249999999, 1.37375, \"s'\"), Interval(1.37375, 1.41565625, \"\\oe\"), Interval(1.41565625, 1.462968749999999, \"v\"), Interval(1.462968749999999, 1.53065625, \"\\vt\"), Interval(1.53065625, 1.579312499999999, \"d\"), Interval(1.579312499999999, 1.61796875, \"n\"), Interval(1.61796875, 1.65721875, \"\\o~\"), Interval(1.65721875, 1.71178125, \"m\"), Interval(1.71178125, 1.7938125, \"z\"), Interval(1.7938125, 1.85753125, \"d\"), Interval(1.85753125, 1.966468749999999, \"a\"), Interval(1.966468749999999, 2.0605625, \"n'\"), Interval(2.0605625, 2.1318494664634144, \"i~\"), Interval(2.1318494664634144, 2.268468749999999, \"e~\"), Interval(2.268468749999999, 2.650749999999999, \"pause\"), Interval(2.650749999999999, 2.725999999999999, \"p\"), Interval(2.725999999999999, 2.75875, \"\\rt\"), Interval(2.75875, 2.860218749999999, \"t\\li\\sh'\"), Interval(2.860218749999999, 2.9025625, \"\\o/\"), Interval(2.9025625, 2.962906249999999, \"m\"), Interval(2.962906249999999, 3.01453125, \"u\"), Interval(3.01453125, 3.082468749999999, \"n'\"), Interval(3.082468749999999, 3.142374999999999, \"i~\"), Interval(3.142374999999999, 3.287374999999999, \"x\"), Interval(3.287374999999999, 4.13475, \"pause\"), Interval(4.13475, 4.252374999999999, \"\\er:\"), Interval(4.252374999999999, 4.300625, \"s\"), Interval(4.300625, 4.37165625, \"t\"), Interval(4.37165625, 4.391312499999999, \"a\"), Interval(4.391312499999999, 4.433343749999999, \"\\rt\"), Interval(4.433343749999999, 4.508156249999999, \"\\sh~\"), Interval(4.508156249999999, 4.539906249999999, \"\\ep-\"), Interval(4.539906249999999, 4.597093749999999, \"k\"), Interval(4.597093749999999, 4.6433125, \"\\l~\"), Interval(4.6433125, 4.737343749999999, \"a\"), Interval(4.737343749999999, 4.779499999999999, \"s'\"), Interval(4.779499999999999, 4.827625, \"n'\"), Interval(4.827625, 4.884999999999999, \"i\"), Interval(4.884999999999999, 4.969781249999999, \"k'\"), Interval(4.969781249999999, 5.014999999999999, \"\\yc\"), Interval(5.014999999999999, 5.086999999999999, \"\\hs\"), Interval(5.086999999999999, 5.158125, \"t\\li\\sh'\"), Interval(5.158125, 5.218718749999999, \"\\ep\"), Interval(5.218718749999999, 5.390437499999999, \"t\\lis\"), Interval(5.390437499999999, 5.52459375, \"a\"), Interval(5.52459375, 5.869875, \"pause\"), Interval(5.869875, 5.90015625, \"n\"), Interval(5.90015625, 5.965374999999999, \"\\as~\"), Interval(5.965374999999999, 6.037687499999999, \"s\"), Interval(6.037687499999999, 6.0968125, \"a\"), Interval(6.0968125, 6.1355, \"m\"), Interval(6.1355, 6.2280625, \"\\o~\"), Interval(6.2280625, 6.293124999999999, \"v'\"), Interval(6.293124999999999, 6.37484375, \"e\"), Interval(6.37484375, 6.42025, \"\\rt\"), Interval(6.42025, 6.493781249999999, \"x\"), Interval(6.493781249999999, 6.528374999999999, \"n'\"), Interval(6.528374999999999, 6.558374999999999, \"\\ic~\"), Interval(6.558374999999999, 6.63046875, \"m\"), Interval(6.63046875, 6.67475, \"\\sw~\"), Interval(6.67475, 6.742156249999999, \"t\"), Interval(6.742156249999999, 6.834812499999999, \"a\"), Interval(6.834812499999999, 6.94665625, \"\\zh~\"), Interval(6.94665625, 7.12296875, \"e\"), Interval(7.12296875, 7.258343749999999, \"pause\"), Interval(7.258343749999999, 7.44075, \"a:\"), Interval(7.44075, 7.527812499999999, \"m\"), Interval(7.527812499999999, 7.58915625, \"\\o~\"), Interval(7.58915625, 7.625343749999999, \"\\l~\"), Interval(7.625343749999999, 7.698093749999999, \"\\i-\"), Interval(7.698093749999999, 7.857062499999999, \"\\sh~\"), Interval(7.857062499999999, 8.1150625, \"\\i-:\"), Interval(8.1150625, 8.30525, \"pause\"), Interval(8.30525, 8.35475, \"f\"), Interval(8.35475, 8.42134375, \"s\"), Interval(8.42134375, 8.521187499999998, \"a\"), Interval(8.521187499999998, 8.57828125, \"m\"), Interval(8.57828125, 8.63490625, \"n'\"), Interval(8.63490625, 8.7208125, \"\\ic~\"), Interval(8.7208125, 8.876875, \"z\"), Interval(8.876875, 9.03071875, \"\\hs\")])\n",
            "IntervalTier(start_time=0.0, end_time=9.03071875, name=\"perception\", objects=[Interval(0.0, 0.08803125, \"d\"), Interval(0.08803125, 0.299656249999999, \"a\"), Interval(0.299656249999999, 0.6634375, \"pause\"), Interval(0.6634375, 0.770875, \"d\"), Interval(0.770875, 0.87184375, \"a\"), Interval(0.87184375, 0.94334375, \"\\ep\"), Interval(0.94334375, 1.01834375, \"t\"), Interval(1.01834375, 1.04153125, \"\\rh\"), Interval(1.04153125, 1.122749999999999, \"b\"), Interval(1.122749999999999, 1.153, \"\\i-\"), Interval(1.153, 1.198874999999999, \"\\l~\"), Interval(1.198874999999999, 1.23853125, \"\\vt\"), Interval(1.23853125, 1.287281249999999, \"f\"), Interval(1.287281249999999, 1.37375, \"s'\"), Interval(1.37375, 1.41565625, \"\\oe\"), Interval(1.41565625, 1.462968749999999, \"v\"), Interval(1.462968749999999, 1.53065625, \"\\vt\"), Interval(1.53065625, 1.579312499999999, \"d\"), Interval(1.579312499999999, 1.61796875, \"n\"), Interval(1.61796875, 1.65721875, \"o\"), Interval(1.65721875, 1.71178125, \"m\"), Interval(1.71178125, 1.7938125, \"z\"), Interval(1.7938125, 1.85753125, \"d\"), Interval(1.85753125, 1.966468749999999, \"a\"), Interval(1.966468749999999, 2.0605625, \"n'\"), Interval(2.0605625, 2.1318494664634144, \"i\"), Interval(2.1318494664634144, 2.268468749999999, \"\\ep\"), Interval(2.268468749999999, 2.650749999999999, \"pause\"), Interval(2.650749999999999, 2.725999999999999, \"p\"), Interval(2.725999999999999, 2.75875, \"r'\\ic\"), Interval(2.75875, 2.860218749999999, \"t\\li\\sh'\"), Interval(2.860218749999999, 2.9025625, \"\\o/\"), Interval(2.9025625, 2.962906249999999, \"m\"), Interval(2.962906249999999, 3.01453125, \"u\"), Interval(3.01453125, 3.082468749999999, \"n'\"), Interval(3.082468749999999, 3.142374999999999, \"\\ic\"), Interval(3.142374999999999, 3.287374999999999, \"x\"), Interval(3.287374999999999, 4.13475, \"pause\"), Interval(4.13475, 4.252374999999999, \"\\er:\"), Interval(4.252374999999999, 4.300625, \"s\"), Interval(4.300625, 4.37165625, \"t\"), Interval(4.37165625, 4.391312499999999, \"\\vt\"), Interval(4.391312499999999, 4.433343749999999, \"r\"), Interval(4.433343749999999, 4.508156249999999, \"\\sh~\"), Interval(4.508156249999999, 4.539906249999999, \"\\i-\"), Interval(4.539906249999999, 4.597093749999999, \"k\"), Interval(4.597093749999999, 4.6433125, \"\\l~\"), Interval(4.6433125, 4.737343749999999, \"a\"), Interval(4.737343749999999, 4.779499999999999, \"s'\"), Interval(4.779499999999999, 4.827625, \"n'\"), Interval(4.827625, 4.884999999999999, \"i\"), Interval(4.884999999999999, 4.969781249999999, \"k'\"), Interval(4.969781249999999, 5.014999999999999, \"\\ic\"), Interval(5.014999999999999, 5.086999999999999, \"u\"), Interval(5.086999999999999, 5.158125, \"t\\li\\sh'\"), Interval(5.158125, 5.218718749999999, \"a\"), Interval(5.218718749999999, 5.390437499999999, \"t\\lis\"), Interval(5.390437499999999, 5.52459375, \"a\"), Interval(5.52459375, 5.869875, \"pause\"), Interval(5.869875, 5.90015625, \"n\"), Interval(5.90015625, 5.965374999999999, \"\\as\"), Interval(5.965374999999999, 6.037687499999999, \"s\"), Interval(6.037687499999999, 6.0968125, \"a\"), Interval(6.0968125, 6.1355, \"m\"), Interval(6.1355, 6.2280625, \"om\"), Interval(6.2280625, 6.293124999999999, \"v'\"), Interval(6.293124999999999, 6.37484375, \"e\"), Interval(6.37484375, 6.42025, \"r\"), Interval(6.42025, 6.493781249999999, \"x\"), Interval(6.493781249999999, 6.528374999999999, \"n'\"), Interval(6.528374999999999, 6.558374999999999, \"\\ic\"), Interval(6.558374999999999, 6.63046875, \"m\"), Interval(6.63046875, 6.67475, \"\\i-\"), Interval(6.67475, 6.742156249999999, \"t\"), Interval(6.742156249999999, 6.834812499999999, \"a\"), Interval(6.834812499999999, 6.94665625, \"\\zh~\"), Interval(6.94665625, 7.12296875, \"e\"), Interval(7.12296875, 7.258343749999999, \"pause\"), Interval(7.258343749999999, 7.44075, \"a:\"), Interval(7.44075, 7.527812499999999, \"m\"), Interval(7.527812499999999, 7.58915625, \"\\vt\"), Interval(7.58915625, 7.625343749999999, \"\\l~\"), Interval(7.625343749999999, 7.698093749999999, \"\\i-\"), Interval(7.698093749999999, 7.857062499999999, \"\\sh~\"), Interval(7.857062499999999, 8.1150625, \"\\i-:\"), Interval(8.1150625, 8.30525, \"pause\"), Interval(8.30525, 8.35475, \"f\"), Interval(8.35475, 8.42134375, \"s\"), Interval(8.42134375, 8.521187499999998, \"a\"), Interval(8.521187499999998, 8.57828125, \"m\"), Interval(8.57828125, 8.63490625, \"n'\"), Interval(8.63490625, 8.7208125, \"\\ic~\"), Interval(8.7208125, 8.876875, \"z\"), Interval(8.876875, 9.03071875, \"u\")])\n",
            "IntervalTier(start_time=0.0, end_time=9.03071875, name=\"ideal\", objects=[Interval(0.0, 0.08803125, \"d\"), Interval(0.08803125, 0.299656249999999, \"\\as\"), Interval(0.299656249999999, 0.6634375, \"pause\"), Interval(0.6634375, 0.770875, \"d\"), Interval(0.770875, 0.87184375, \"\\as\"), Interval(0.87184375, 0.94334375, \"e\"), Interval(0.94334375, 1.01834375, \"t\"), Interval(1.01834375, 1.04153125, \"\\as\"), Interval(1.04153125, 1.122749999999999, \"b\"), Interval(1.122749999999999, 1.153, \"\\i-\"), Interval(1.153, 1.198874999999999, \"\\l~\"), Interval(1.198874999999999, 1.23853125, \"\\as\"), Interval(1.23853125, 1.287281249999999, \"f\"), Interval(1.287281249999999, 1.37375, \"s'\"), Interval(1.37375, 1.41565625, \"o\"), Interval(1.41565625, 1.462968749999999, \"v\"), Interval(1.462968749999999, 1.53065625, \"\\as\"), Interval(1.53065625, 1.579312499999999, \"d\"), Interval(1.579312499999999, 1.61796875, \"n\"), Interval(1.61796875, 1.65721875, \"o\"), Interval(1.65721875, 1.71178125, \"m\"), Interval(1.71178125, 1.7938125, \"z\"), Interval(1.7938125, 1.85753125, \"d\"), Interval(1.85753125, 1.966468749999999, \"\\as\"), Interval(1.966468749999999, 2.0605625, \"n'\"), Interval(2.0605625, 2.1318494664634144, \"i\"), Interval(2.1318494664634144, 2.268468749999999, \"i\"), Interval(2.268468749999999, 2.650749999999999, \"pause\"), Interval(2.650749999999999, 2.725999999999999, \"p\"), Interval(2.725999999999999, 2.75875, \"r'i\"), Interval(2.75875, 2.860218749999999, \"t\\li\\sh'\"), Interval(2.860218749999999, 2.9025625, \"o\"), Interval(2.9025625, 2.962906249999999, \"m\"), Interval(2.962906249999999, 3.01453125, \"u\"), Interval(3.01453125, 3.082468749999999, \"n'\"), Interval(3.082468749999999, 3.142374999999999, \"i\"), Interval(3.142374999999999, 3.287374999999999, \"x\"), Interval(3.287374999999999, 4.13475, \"pause\"), Interval(4.252374999999999, 4.300625, \"s\"), Interval(4.300625, 4.37165625, \"t\"), Interval(4.37165625, 4.391312499999999, \"\\as\"), Interval(4.391312499999999, 4.433343749999999, \"r\"), Interval(4.433343749999999, 4.508156249999999, \"\\sh~\"), Interval(4.508156249999999, 4.539906249999999, \"\\i-\"), Interval(4.539906249999999, 4.597093749999999, \"k\"), Interval(4.597093749999999, 4.6433125, \"\\l~\"), Interval(4.6433125, 4.737343749999999, \"\\as\"), Interval(4.737343749999999, 4.779499999999999, \"s'\"), Interval(4.779499999999999, 4.827625, \"n'\"), Interval(4.827625, 4.884999999999999, \"i\"), Interval(4.884999999999999, 4.969781249999999, \"k'\"), Interval(4.969781249999999, 5.014999999999999, \"i\"), Interval(5.014999999999999, 5.086999999999999, \"u\"), Interval(5.086999999999999, 5.158125, \"t\\li\\sh'\"), Interval(5.158125, 5.218718749999999, \"i\"), Interval(5.218718749999999, 5.390437499999999, \"t\\lis\"), Interval(5.390437499999999, 5.52459375, \"\\as\"), Interval(5.52459375, 5.869875, \"pause\"), Interval(5.869875, 5.90015625, \"n\"), Interval(5.90015625, 5.965374999999999, \"\\as\"), Interval(5.965374999999999, 6.037687499999999, \"s\"), Interval(6.037687499999999, 6.0968125, \"a\"), Interval(6.0968125, 6.1355, \"m\"), Interval(6.1355, 6.2280625, \"\\asm\"), Interval(6.2280625, 6.293124999999999, \"v'\"), Interval(6.293124999999999, 6.37484375, \"e\"), Interval(6.37484375, 6.42025, \"r\"), Interval(6.42025, 6.493781249999999, \"x\"), Interval(6.493781249999999, 6.528374999999999, \"n'\"), Interval(6.528374999999999, 6.558374999999999, \"i\"), Interval(6.558374999999999, 6.63046875, \"m\"), Interval(6.63046875, 6.67475, \"\\i-\"), Interval(6.67475, 6.742156249999999, \"t\"), Interval(6.742156249999999, 6.834812499999999, \"\\as\"), Interval(6.834812499999999, 6.94665625, \"\\zh~\"), Interval(6.94665625, 7.12296875, \"e\"), Interval(7.12296875, 7.258343749999999, \"pause\"), Interval(7.258343749999999, 7.44075, \"\\as\"), Interval(7.44075, 7.527812499999999, \"m\"), Interval(7.527812499999999, 7.58915625, \"\\as\"), Interval(7.58915625, 7.625343749999999, \"\\l~\"), Interval(7.625343749999999, 7.698093749999999, \"\\i-\"), Interval(7.698093749999999, 7.857062499999999, \"\\sh~\"), Interval(7.857062499999999, 8.1150625, \"\\i-\"), Interval(8.1150625, 8.30525, \"pause\"), Interval(8.30525, 8.35475, \"f\"), Interval(8.35475, 8.42134375, \"s\"), Interval(8.42134375, 8.521187499999998, \"\\as\"), Interval(8.521187499999998, 8.57828125, \"m\\as\"), Interval(8.57828125, 8.63490625, \"mn'\"), Interval(8.63490625, 8.7208125, \"i\"), Interval(8.7208125, 8.876875, \"z\"), Interval(8.876875, 9.03071875, \"u\")])\n",
            "IntervalTier(start_time=0.0, end_time=9.03071875, name=\"syllables\", objects=[Interval(0.0, 0.299656249999999, \"da\"), Interval(0.299656249999999, 0.6634375, \"pause\"), Interval(0.6634375, 0.87184375, \"da\"), Interval(0.87184375, 0.94334375, \"\\ep\"), Interval(0.94334375, 1.04153125, \"t\\rh\"), Interval(1.04153125, 1.153, \"b\\i-\"), Interval(1.153, 1.23853125, \"\\l~\\vt\"), Interval(1.23853125, 1.41565625, \"fs'\\oe\"), Interval(1.41565625, 1.53065625, \"v\\vt\"), Interval(1.53065625, 1.65721875, \"dno\"), Interval(1.65721875, 1.966468749999999, \"mzda\"), Interval(1.966468749999999, 2.1318494664634144, \"n'i\"), Interval(2.1318494664634144, 2.268468749999999, \"\\ep\"), Interval(2.268468749999999, 2.650749999999999, \"pause\"), Interval(2.650749999999999, 2.75875, \"pr'\\ic\"), Interval(2.75875, 2.9025625, \"t\\li\\sh'\\o/\"), Interval(2.9025625, 3.01453125, \"mu\"), Interval(3.01453125, 3.142374999999999, \"n'\\ic\"), Interval(3.142374999999999, 3.287374999999999, \"x\"), Interval(3.287374999999999, 4.13475, \"pause\"), Interval(4.252374999999999, 4.391312499999999, \"st\\vt\"), Interval(4.391312499999999, 4.539906249999999, \"r\\sh~\\i-\"), Interval(4.539906249999999, 4.737343749999999, \"k\\l~a\"), Interval(4.737343749999999, 4.884999999999999, \"s'n'i\"), Interval(4.884999999999999, 5.014999999999999, \"k'\\ic\"), Interval(5.014999999999999, 5.086999999999999, \"u\"), Interval(5.086999999999999, 5.218718749999999, \"t\\li\\sh'a\"), Interval(5.218718749999999, 5.52459375, \"t\\lisa\"), Interval(5.52459375, 5.869875, \"pause\"), Interval(5.869875, 5.965374999999999, \"n\\as\"), Interval(5.965374999999999, 6.0968125, \"sa\"), Interval(6.0968125, 6.2280625, \"mom\"), Interval(6.2280625, 6.37484375, \"v'e\"), Interval(6.37484375, 6.558374999999999, \"rxn'\\ic\"), Interval(6.558374999999999, 6.67475, \"m\\i-\"), Interval(6.67475, 6.834812499999999, \"ta\"), Interval(6.834812499999999, 7.12296875, \"\\zh~e\"), Interval(7.12296875, 7.258343749999999, \"pause\"), Interval(7.258343749999999, 7.44075, \"a:\"), Interval(7.44075, 7.58915625, \"m\\vt\"), Interval(7.58915625, 7.698093749999999, \"\\l~\\i-\"), Interval(7.698093749999999, 8.1150625, \"\\sh~\\i-:\"), Interval(8.1150625, 8.30525, \"pause\"), Interval(8.30525, 8.521187499999998, \"fsa\"), Interval(8.521187499999998, 8.7208125, \"mn'\\ic~\"), Interval(8.7208125, 9.03071875, \"zu\")])\n",
            "IntervalTier(start_time=0.0, end_time=9.03071875, name=\"stress\", objects=[Interval(0.0, 0.299656249999999, \"2\"), Interval(0.299656249999999, 0.6634375, \"pause\"), Interval(0.6634375, 0.87184375, \"2\"), Interval(0.87184375, 0.94334375, \"2\"), Interval(1.04153125, 1.153, \"2\"), Interval(1.23853125, 1.41565625, \"2\"), Interval(1.53065625, 1.65721875, \"2\"), Interval(1.65721875, 1.966468749999999, \"2\"), Interval(2.268468749999999, 2.650749999999999, \"pause\"), Interval(2.75875, 2.9025625, \"2\"), Interval(3.01453125, 3.142374999999999, \"2\"), Interval(3.287374999999999, 4.13475, \"pause\"), Interval(4.539906249999999, 4.737343749999999, \"2\"), Interval(5.014999999999999, 5.086999999999999, \"2\"), Interval(5.52459375, 5.869875, \"pause\"), Interval(5.965374999999999, 6.0968125, \"2\"), Interval(6.2280625, 6.37484375, \"2\"), Interval(6.834812499999999, 7.12296875, \"2\"), Interval(7.12296875, 7.258343749999999, \"pause\"), Interval(7.698093749999999, 8.1150625, \"2\"), Interval(8.1150625, 8.30525, \"pause\"), Interval(8.30525, 8.521187499999998, \"2\"), Interval(8.7208125, 9.03071875, \"2\")])\n",
            "IntervalTier(start_time=0.0, end_time=9.03071875, name=\"syntagma\", objects=[Interval(0.0, 0.299656249999999, \"18-1\"), Interval(0.299656249999999, 0.6634375, \"pause\"), Interval(0.6634375, 0.87184375, \"18-2\"), Interval(0.87184375, 2.268468749999999, \"18-3\"), Interval(2.268468749999999, 2.650749999999999, \"pause\"), Interval(2.650749999999999, 3.287374999999999, \"18-4\"), Interval(3.287374999999999, 4.13475, \"pause\"), Interval(4.13475, 5.52459375, \"18-5\"), Interval(5.52459375, 5.869875, \"pause\"), Interval(5.869875, 7.12296875, \"18-6\"), Interval(7.12296875, 7.258343749999999, \"pause\"), Interval(7.258343749999999, 8.1150625, \"18-7\"), Interval(8.1150625, 8.30525, \"pause\"), Interval(8.30525, 9.03071875, \"18-8\")])\n",
            "IntervalTier(start_time=0.0, end_time=9.03071875, name=\"melody\", objects=[Interval(0.0, 0.299656249999999, \"F\"), Interval(0.299656249999999, 0.6634375, \"pause\"), Interval(0.6634375, 0.87184375, \"L\"), Interval(1.65721875, 1.966468749999999, \"R\"), Interval(2.268468749999999, 2.650749999999999, \"pause\"), Interval(3.01453125, 3.142374999999999, \"R\"), Interval(3.287374999999999, 4.13475, \"pause\"), Interval(4.539906249999999, 4.737343749999999, \"R\"), Interval(5.52459375, 5.869875, \"pause\"), Interval(6.2280625, 6.37484375, \"hR\"), Interval(7.12296875, 7.258343749999999, \"pause\"), Interval(7.698093749999999, 8.1150625, \"R\"), Interval(8.1150625, 8.30525, \"pause\"), Interval(8.7208125, 9.03071875, \"F\")])\n",
            "IntervalTier(start_time=0.0, end_time=9.03075, name=\"hesitation\", objects=[Interval(0.299656249999999, 0.6634375, \"pause\"), Interval(2.268468749999999, 2.650749999999999, \"pause\"), Interval(3.287374999999999, 3.58678125, \"hes\"), Interval(3.58678125, 4.13475, \"pause\"), Interval(5.52459375, 5.869875, \"pause\"), Interval(7.12296875, 7.258343749999999, \"pause\"), Interval(8.1150625, 8.30525, \"pause\")])\n"
          ]
        }
      ]
    },
    {
      "cell_type": "code",
      "source": [
        "grid.get_tier_by_name(\"hesitation\")"
      ],
      "metadata": {
        "id": "1RgrKSOJcv0S",
        "colab": {
          "base_uri": "https://localhost:8080/"
        },
        "outputId": "ee4aa65e-21e8-4655-add5-6b3d66f2c502"
      },
      "execution_count": null,
      "outputs": [
        {
          "output_type": "execute_result",
          "data": {
            "text/plain": [
              "IntervalTier(start_time=0.0, end_time=9.03075, name=\"hesitation\", objects=[Interval(0.299656249999999, 0.6634375, \"pause\"), Interval(2.268468749999999, 2.650749999999999, \"pause\"), Interval(3.287374999999999, 3.58678125, \"hes\"), Interval(3.58678125, 4.13475, \"pause\"), Interval(5.52459375, 5.869875, \"pause\"), Interval(7.12296875, 7.258343749999999, \"pause\"), Interval(8.1150625, 8.30525, \"pause\")])"
            ]
          },
          "metadata": {},
          "execution_count": 8
        }
      ]
    },
    {
      "cell_type": "code",
      "source": [
        "hesitation_tier = grid.get_tier_by_name(\"hesitation\")\n",
        "for interval in hesitation_tier:\n",
        "    print(interval)"
      ],
      "metadata": {
        "id": "ImRMupMnc4pS",
        "colab": {
          "base_uri": "https://localhost:8080/"
        },
        "outputId": "b041f64d-1581-4ca4-97de-f78f4d82a48b"
      },
      "execution_count": null,
      "outputs": [
        {
          "output_type": "stream",
          "name": "stdout",
          "text": [
            "Interval(0.299656249999999, 0.6634375, \"pause\")\n",
            "Interval(2.268468749999999, 2.650749999999999, \"pause\")\n",
            "Interval(3.287374999999999, 3.58678125, \"hes\")\n",
            "Interval(3.58678125, 4.13475, \"pause\")\n",
            "Interval(5.52459375, 5.869875, \"pause\")\n",
            "Interval(7.12296875, 7.258343749999999, \"pause\")\n",
            "Interval(8.1150625, 8.30525, \"pause\")\n"
          ]
        }
      ]
    },
    {
      "cell_type": "code",
      "source": [
        "print(hesitation_tier.name)\n",
        "print(hesitation_tier.start_time)\n",
        "print(hesitation_tier.end_time)"
      ],
      "metadata": {
        "id": "RwVdX8n7dO8A",
        "colab": {
          "base_uri": "https://localhost:8080/"
        },
        "outputId": "c3347170-e7b7-4b5b-c4d9-44cb2bd04c09"
      },
      "execution_count": null,
      "outputs": [
        {
          "output_type": "stream",
          "name": "stdout",
          "text": [
            "hesitation\n",
            "0.0\n",
            "9.03075\n"
          ]
        }
      ]
    },
    {
      "cell_type": "code",
      "source": [
        "print(hesitation_tier[2].start_time)\n",
        "print(hesitation_tier[2].end_time)\n",
        "print(hesitation_tier[2].text)"
      ],
      "metadata": {
        "id": "UD6q_A0QdrWn",
        "colab": {
          "base_uri": "https://localhost:8080/"
        },
        "outputId": "e4eb7bb8-a504-4d71-fcfc-c51db7baaadb"
      },
      "execution_count": null,
      "outputs": [
        {
          "output_type": "stream",
          "name": "stdout",
          "text": [
            "3.287374999999999\n",
            "3.58678125\n",
            "hes\n"
          ]
        }
      ]
    },
    {
      "cell_type": "markdown",
      "source": [
        "Задание 1.\n",
        "Возьмем слой ideal и напечатаем в столбик пары текст - начальная точка\n"
      ],
      "metadata": {
        "id": "qB95mjPzfatk"
      }
    },
    {
      "cell_type": "code",
      "source": [
        "ideal_tier = grid.get_tier_by_name(\"ideal\")\n",
        "for interval in ideal_tier:\n",
        "  print(f\"{interval.text} {round(interval.start_time, 2)} \\n\")"
      ],
      "metadata": {
        "id": "1vRMxq9nfwvf",
        "colab": {
          "base_uri": "https://localhost:8080/"
        },
        "outputId": "3d51d8dd-52fc-4f0e-e306-87dd360b6d70"
      },
      "execution_count": null,
      "outputs": [
        {
          "output_type": "stream",
          "name": "stdout",
          "text": [
            "d 0.0 \n",
            "\n",
            "\\as 0.09 \n",
            "\n",
            "pause 0.3 \n",
            "\n",
            "d 0.66 \n",
            "\n",
            "\\as 0.77 \n",
            "\n",
            "e 0.87 \n",
            "\n",
            "t 0.94 \n",
            "\n",
            "\\as 1.02 \n",
            "\n",
            "b 1.04 \n",
            "\n",
            "\\i- 1.12 \n",
            "\n",
            "\\l~ 1.15 \n",
            "\n",
            "\\as 1.2 \n",
            "\n",
            "f 1.24 \n",
            "\n",
            "s' 1.29 \n",
            "\n",
            "o 1.37 \n",
            "\n",
            "v 1.42 \n",
            "\n",
            "\\as 1.46 \n",
            "\n",
            "d 1.53 \n",
            "\n",
            "n 1.58 \n",
            "\n",
            "o 1.62 \n",
            "\n",
            "m 1.66 \n",
            "\n",
            "z 1.71 \n",
            "\n",
            "d 1.79 \n",
            "\n",
            "\\as 1.86 \n",
            "\n",
            "n' 1.97 \n",
            "\n",
            "i 2.06 \n",
            "\n",
            "i 2.13 \n",
            "\n",
            "pause 2.27 \n",
            "\n",
            "p 2.65 \n",
            "\n",
            "r'i 2.73 \n",
            "\n",
            "t\\li\\sh' 2.76 \n",
            "\n",
            "o 2.86 \n",
            "\n",
            "m 2.9 \n",
            "\n",
            "u 2.96 \n",
            "\n",
            "n' 3.01 \n",
            "\n",
            "i 3.08 \n",
            "\n",
            "x 3.14 \n",
            "\n",
            "pause 3.29 \n",
            "\n",
            "s 4.25 \n",
            "\n",
            "t 4.3 \n",
            "\n",
            "\\as 4.37 \n",
            "\n",
            "r 4.39 \n",
            "\n",
            "\\sh~ 4.43 \n",
            "\n",
            "\\i- 4.51 \n",
            "\n",
            "k 4.54 \n",
            "\n",
            "\\l~ 4.6 \n",
            "\n",
            "\\as 4.64 \n",
            "\n",
            "s' 4.74 \n",
            "\n",
            "n' 4.78 \n",
            "\n",
            "i 4.83 \n",
            "\n",
            "k' 4.88 \n",
            "\n",
            "i 4.97 \n",
            "\n",
            "u 5.01 \n",
            "\n",
            "t\\li\\sh' 5.09 \n",
            "\n",
            "i 5.16 \n",
            "\n",
            "t\\lis 5.22 \n",
            "\n",
            "\\as 5.39 \n",
            "\n",
            "pause 5.52 \n",
            "\n",
            "n 5.87 \n",
            "\n",
            "\\as 5.9 \n",
            "\n",
            "s 5.97 \n",
            "\n",
            "a 6.04 \n",
            "\n",
            "m 6.1 \n",
            "\n",
            "\\asm 6.14 \n",
            "\n",
            "v' 6.23 \n",
            "\n",
            "e 6.29 \n",
            "\n",
            "r 6.37 \n",
            "\n",
            "x 6.42 \n",
            "\n",
            "n' 6.49 \n",
            "\n",
            "i 6.53 \n",
            "\n",
            "m 6.56 \n",
            "\n",
            "\\i- 6.63 \n",
            "\n",
            "t 6.67 \n",
            "\n",
            "\\as 6.74 \n",
            "\n",
            "\\zh~ 6.83 \n",
            "\n",
            "e 6.95 \n",
            "\n",
            "pause 7.12 \n",
            "\n",
            "\\as 7.26 \n",
            "\n",
            "m 7.44 \n",
            "\n",
            "\\as 7.53 \n",
            "\n",
            "\\l~ 7.59 \n",
            "\n",
            "\\i- 7.63 \n",
            "\n",
            "\\sh~ 7.7 \n",
            "\n",
            "\\i- 7.86 \n",
            "\n",
            "pause 8.12 \n",
            "\n",
            "f 8.31 \n",
            "\n",
            "s 8.35 \n",
            "\n",
            "\\as 8.42 \n",
            "\n",
            "m\\as 8.52 \n",
            "\n",
            "mn' 8.58 \n",
            "\n",
            "i 8.63 \n",
            "\n",
            "z 8.72 \n",
            "\n",
            "u 8.88 \n",
            "\n"
          ]
        }
      ]
    },
    {
      "cell_type": "markdown",
      "source": [
        "II. Создание нового слоя\n"
      ],
      "metadata": {
        "id": "zKxIacSggpxT"
      }
    },
    {
      "cell_type": "code",
      "source": [
        "grid = tgt.core.TextGrid()\n",
        "\n",
        "new_tier = tgt.core.IntervalTier(name=\"my interval tier\")\n",
        "grid.add_tier(new_tier)"
      ],
      "metadata": {
        "id": "99DBI7d9gvgq"
      },
      "execution_count": null,
      "outputs": []
    },
    {
      "cell_type": "code",
      "source": [
        "new_tier.add_interval(tgt.core.Interval(0, 0.5, \"new interval\"))\n",
        "new_tier"
      ],
      "metadata": {
        "id": "FCF83BxVhATK",
        "colab": {
          "base_uri": "https://localhost:8080/"
        },
        "outputId": "dfa07f5b-d1a3-46bf-d558-0abdadff94cb"
      },
      "execution_count": null,
      "outputs": [
        {
          "output_type": "execute_result",
          "data": {
            "text/plain": [
              "IntervalTier(start_time=0.0, end_time=0.5, name=\"my interval tier\", objects=[Interval(0.0, 0.5, \"new interval\")])"
            ]
          },
          "metadata": {},
          "execution_count": 16
        }
      ]
    },
    {
      "cell_type": "code",
      "source": [
        "new_point_tier = tgt.core.PointTier(name=\"new point tier\")\n",
        "grid.add_tier(new_point_tier)\n",
        "new_point_tier.add_point(tgt.core.Point(1.5, \"new point\"))\n",
        "new_point_tier"
      ],
      "metadata": {
        "id": "gx8kpjyehH45",
        "colab": {
          "base_uri": "https://localhost:8080/"
        },
        "outputId": "fe1b0887-bdf2-42d8-a2ad-76c410375733"
      },
      "execution_count": null,
      "outputs": [
        {
          "output_type": "execute_result",
          "data": {
            "text/plain": [
              "PointTier(start_time=0.0, end_time=1.5, name=\"new point tier\", objects=[Point(1.5, \"new point\")])"
            ]
          },
          "metadata": {},
          "execution_count": 19
        }
      ]
    },
    {
      "cell_type": "code",
      "source": [
        "tgt.io.write_to_file(grid, \"new_grid_short.TextGrid\", format=\"short\")\n",
        "tgt.io.write_to_file(grid, \"new_grid_long.TextGrid\", format=\"long\")"
      ],
      "metadata": {
        "id": "XcA7eDRahfNI"
      },
      "execution_count": null,
      "outputs": []
    },
    {
      "cell_type": "code",
      "source": [
        "from itertools import product\n",
        "letters = \"GBRY\"\n",
        "nums = \"1234\"\n",
        "levels = [ch + num for num, ch in product(nums, letters)]\n",
        "level_codes = [2 ** i for i in range(len(levels))]\n",
        "\n",
        "level2code = {i: j for i, j in zip(levels, level_codes)}\n",
        "code2level = {j: i for i, j in zip(levels, level_codes)}\n",
        "\n",
        "sampwidth_to_char = {1: \"c\", 2: \"h\", 4: \"i\"}\n",
        "\n",
        "def detect_encoding(file_path):\n",
        "    encoding = \"utf-8\"\n",
        "    try:\n",
        "        l = open(file_path, 'r', encoding=\"utf-8\").read()\n",
        "        if l.startswith(\"\\ufeff\"):  # byte order mark\n",
        "            encoding = \"utf-8-sig\"\n",
        "    except UnicodeDecodeError:\n",
        "        try:\n",
        "            open(file_path, 'r', encoding=\"utf-16\").read()\n",
        "            encoding = \"utf-16\"\n",
        "        except UnicodeError:\n",
        "            encoding = \"cp1251\"\n",
        "    return encoding\n",
        "\n",
        "class Label:\n",
        "  def __init__(self, position, level, text) -> None:\n",
        "    self.position = position\n",
        "    self.level = level\n",
        "    self.text = text\n",
        "\n",
        "class Params:\n",
        "  def __init__(self, s_rate, s_width, n_channels) -> None:\n",
        "      self.samplerate = s_rate\n",
        "      self.sampwidth = s_width\n",
        "      self.numchannels = n_channels\n",
        "\n",
        "class Seg:\n",
        "  def __init__(self, filename: str = None, labels: list = [], params: Params = Params(22050, 2, 1)):\n",
        "    self.filename = filename\n",
        "    self.labels = labels\n",
        "    self.params = params\n",
        "\n",
        "  def read_seg_file(self):\n",
        "    try:\n",
        "      with open(self.filename, \"r\", encoding=detect_encoding(self.filename)) as f:\n",
        "        lines = [line.strip() for line in f.readlines()]\n",
        "    except FileNotFoundError:\n",
        "      print(self.filename, \" не найден\")\n",
        "\n",
        "    self.init_params()\n",
        "\n",
        "    try:\n",
        "      index_labels = lines.index('[LABELS]')\n",
        "    except ValueError:\n",
        "      print(\"Seg-файл не содержит секции LABELS\")\n",
        "\n",
        "    labels_ = lines[index_labels + 1 :]\n",
        "    labels_arr = [Label(\n",
        "        int(line.split(\",\")[0]) // self.params.sampwidth // self.params.numchannels,\n",
        "        code2level[int(line.split(\",\")[1])],\n",
        "        line.split(\",\")[2]\n",
        "    ) for line in labels_ if line.count(\",\") >= 2]\n",
        "\n",
        "    self.labels = labels_arr\n",
        "\n",
        "  def init_params(self):\n",
        "    try:\n",
        "      with open(self.filename, \"r\", encoding=detect_encoding(self.filename)) as f:\n",
        "        lines = [line.strip() for line in f.readlines()]\n",
        "    except FileNotFoundError:\n",
        "      print(self.filename, \" не найден\")\n",
        "\n",
        "    try:\n",
        "      index_params = lines.index('[PARAMETERS]')\n",
        "    except ValueError:\n",
        "      print(\"Seg-файл не содержит секции PARAMETERS\")\n",
        "\n",
        "    try:\n",
        "      index_labels = lines.index('[LABELS]')\n",
        "    except ValueError:\n",
        "      print(\"Seg-файл не содержит секции LABELS\")\n",
        "\n",
        "    parameters = lines[index_params + 1 : index_labels]\n",
        "\n",
        "    param_dict = {str(line.split(\"=\")[0]): int(line.split(\"=\")[1]) for line in parameters}\n",
        "\n",
        "    self.params = Params(param_dict[\"SAMPLING_FREQ\"], param_dict[\"BYTE_PER_SAMPLE\"], param_dict[\"N_CHANNEL\"])\n",
        "\n",
        "  def write_seg_file(self):\n",
        "    params = {\n",
        "        \"SAMPLING_FREQ\": self.params.samplerate,\n",
        "        \"BYTE_PER_SAMPLE\": self.params.sampwidth,\n",
        "        \"CODE\": 0,\n",
        "        \"N_CHANNEL\": self.params.numchannels,\n",
        "        \"N_LABEL\": len(self.labels)\n",
        "    }\n",
        "    with open(self.filename, \"w\", encoding=\"utf-8\") as f:\n",
        "      f.write(\"[PARAMETERS]\\n\")\n",
        "      for key in params.keys():\n",
        "        f.write(key + '=' + str(params[key]) + \"\\n\")\n",
        "      f.write(\"[LABELS]\\n\")\n",
        "      for label in self.labels:\n",
        "        pos = label.position * self.params.numchannels * self.params.sampwidth\n",
        "        f.write(f\"{pos}, {level2code[label.level]}, {label.text}\\n\")\n",
        "    print(\"Параметры и метки записаны в файл \", self.filename)\n",
        "\n",
        "    def get_labels_in_pairs(self, num_samples):\n",
        "      ends = [end.position for start, end in zip(self.labels, self.labels[1:])]\n",
        "      ends.append(num_samples)\n",
        "      return [(label.position, ends[i], label.text) for i, label in enumerate(self.labels)]"
      ],
      "metadata": {
        "id": "L1oYUUKLjMta"
      },
      "execution_count": null,
      "outputs": []
    },
    {
      "cell_type": "markdown",
      "source": [
        "Задание 2.\n",
        "Считайте метки из сег-файла cta0001.seg_B1 и запишите TextGrid с слоем IntervalTier, содержащим время начала, время конца и текст каждого интервала. Подсказка: для этого нужно перебрать метки В1 парами. Время в TextGrid в секундах, а в seg - в отсчетах!\n"
      ],
      "metadata": {
        "id": "0W_og13SiFk1"
      }
    },
    {
      "cell_type": "code",
      "source": [
        "def seg_to_textgrid(seg_filename: str, textgrid_filename: str, max_time: float) -> None:\n",
        "    seg = Seg(seg_filename)\n",
        "    seg.read_seg_file()\n",
        "    labels = seg.labels\n",
        "\n",
        "    new_grid = tgt.core.TextGrid()\n",
        "    new_tier = tgt.core.IntervalTier()\n",
        "    new_grid.add_tier(new_tier)\n",
        "\n",
        "    for left, right in zip(labels, labels[1:]):\n",
        "      start_time = left.position / seg.params.samplerate\n",
        "      end_time = right.position / seg.params.samplerate\n",
        "      text = left.text\n",
        "      new_tier.add_interval(tgt.core.Interval(start_time, end_time, text))\n",
        "\n",
        "    new_tier[-1].end_time = max_time\n",
        "\n",
        "    tgt.write_to_file(new_grid, textgrid_filename, format=\"long\")\n"
      ],
      "metadata": {
        "id": "STTr9v92issk"
      },
      "execution_count": null,
      "outputs": []
    },
    {
      "cell_type": "code",
      "source": [
        "seg_to_textgrid(\"/content/drive/MyDrive/cta/cta0001.seg_B1\", \"out.TextGrid\", max_time=1.747)"
      ],
      "metadata": {
        "id": "boJvajn_klSV"
      },
      "execution_count": null,
      "outputs": []
    }
  ]
}